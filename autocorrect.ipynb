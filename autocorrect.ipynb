{
 "cells": [
  {
   "cell_type": "code",
   "execution_count": 60,
   "id": "47354837-e06a-4bdf-b62f-7f21aea1e78a",
   "metadata": {},
   "outputs": [],
   "source": [
    "import difflib"
   ]
  },
  {
   "cell_type": "code",
   "execution_count": 61,
   "id": "74cd2817-01ea-4332-b299-056a3c359d6f",
   "metadata": {},
   "outputs": [],
   "source": [
    "def correct_word(word, dictionary):\n",
    "    closest_match = difflib.get_close_matches(word, dictionary, n=1)\n",
    "    if closest_match:\n",
    "        return closest_match[0]\n",
    "    else:\n",
    "        return None\n",
    "\n",
    "word_to_correct = \"nalty\"\n",
    "dictionary = [\"nearest\", \"correct\", \"word\", \"example\",\"novelty\"]\n",
    "\n",
    "corrected_word = correct_word(word_to_correct, dictionary)"
   ]
  },
  {
   "cell_type": "code",
   "execution_count": 62,
   "id": "72ac44ec-3105-4c5d-b13d-7e67684da1ba",
   "metadata": {},
   "outputs": [
    {
     "name": "stdout",
     "output_type": "stream",
     "text": [
      "The corrected word for 'nalty' is 'novelty'.\n"
     ]
    }
   ],
   "source": [
    "if corrected_word:\n",
    "    print(f\"The corrected word for '{word_to_correct}' is '{corrected_word}'.\")\n",
    "else:\n",
    "    print(f\"No correction found for '{word_to_correct}'.\")"
   ]
  }
 ],
 "metadata": {
  "kernelspec": {
   "display_name": "Python 3 (ipykernel)",
   "language": "python",
   "name": "python3"
  },
  "language_info": {
   "codemirror_mode": {
    "name": "ipython",
    "version": 3
   },
   "file_extension": ".py",
   "mimetype": "text/x-python",
   "name": "python",
   "nbconvert_exporter": "python",
   "pygments_lexer": "ipython3",
   "version": "3.10.5"
  }
 },
 "nbformat": 4,
 "nbformat_minor": 5
}
